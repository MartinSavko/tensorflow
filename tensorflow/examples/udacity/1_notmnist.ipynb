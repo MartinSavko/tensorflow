{
 "cells": [
  {
   "cell_type": "markdown",
   "metadata": {
    "colab_type": "text",
    "id": "5hIbr52I7Z7U"
   },
   "source": [
    "Deep Learning\n",
    "=============\n",
    "\n",
    "Assignment 1\n",
    "------------\n",
    "\n",
    "The objective of this assignment is to learn about simple data curation practices, and familiarize you with some of the data we'll be reusing later.\n",
    "\n",
    "This notebook uses the [notMNIST](http://yaroslavvb.blogspot.com/2011/09/notmnist-dataset.html) dataset to be used with python experiments. This dataset is designed to look like the classic [MNIST](http://yann.lecun.com/exdb/mnist/) dataset, while looking a little more like real data: it's a harder task, and the data is a lot less 'clean' than MNIST."
   ]
  },
  {
   "cell_type": "code",
   "execution_count": 2,
   "metadata": {
    "cellView": "both",
    "colab": {
     "autoexec": {
      "startup": false,
      "wait_interval": 0
     }
    },
    "colab_type": "code",
    "id": "apJbCsBHl-2A"
   },
   "outputs": [],
   "source": [
    "# These are all the modules we'll be using later. Make sure you can import them\n",
    "# before proceeding further.\n",
    "from __future__ import print_function\n",
    "import matplotlib.pyplot as plt\n",
    "import numpy as np\n",
    "import os\n",
    "import sys\n",
    "import tarfile\n",
    "from IPython.display import display, Image\n",
    "from scipy import ndimage\n",
    "from sklearn.linear_model import LogisticRegression\n",
    "from six.moves.urllib.request import urlretrieve\n",
    "from six.moves import cPickle as pickle\n",
    "\n",
    "# Config the matplotlib backend as plotting inline in IPython\n",
    "%matplotlib inline"
   ]
  },
  {
   "cell_type": "markdown",
   "metadata": {
    "colab_type": "text",
    "id": "jNWGtZaXn-5j"
   },
   "source": [
    "First, we'll download the dataset to our local machine. The data consists of characters rendered in a variety of fonts on a 28x28 image. The labels are limited to 'A' through 'J' (10 classes). The training set has about 500k and the testset 19000 labeled examples. Given these sizes, it should be possible to train models quickly on any machine."
   ]
  },
  {
   "cell_type": "code",
   "execution_count": 3,
   "metadata": {
    "cellView": "both",
    "colab": {
     "autoexec": {
      "startup": false,
      "wait_interval": 0
     },
     "output_extras": [
      {
       "item_id": 1
      }
     ]
    },
    "colab_type": "code",
    "executionInfo": {
     "elapsed": 186058,
     "status": "ok",
     "timestamp": 1444485672507,
     "user": {
      "color": "#1FA15D",
      "displayName": "Vincent Vanhoucke",
      "isAnonymous": false,
      "isMe": true,
      "permissionId": "05076109866853157986",
      "photoUrl": "//lh6.googleusercontent.com/-cCJa7dTDcgQ/AAAAAAAAAAI/AAAAAAAACgw/r2EZ_8oYer4/s50-c-k-no/photo.jpg",
      "sessionId": "2a0a5e044bb03b66",
      "userId": "102167687554210253930"
     },
     "user_tz": 420
    },
    "id": "EYRJ4ICW6-da",
    "outputId": "0d0f85df-155f-4a89-8e7e-ee32df36ec8d"
   },
   "outputs": [
    {
     "name": "stdout",
     "output_type": "stream",
     "text": [
      "Found and verified ./notMNIST_large.tar.gz\n",
      "Found and verified ./notMNIST_small.tar.gz\n"
     ]
    }
   ],
   "source": [
    "url = 'https://commondatastorage.googleapis.com/books1000/'\n",
    "last_percent_reported = None\n",
    "data_root = '.' # Change me to store data elsewhere\n",
    "\n",
    "def download_progress_hook(count, blockSize, totalSize):\n",
    "  \"\"\"A hook to report the progress of a download. This is mostly intended for users with\n",
    "  slow internet connections. Reports every 5% change in download progress.\n",
    "  \"\"\"\n",
    "  global last_percent_reported\n",
    "  percent = int(count * blockSize * 100 / totalSize)\n",
    "\n",
    "  if last_percent_reported != percent:\n",
    "    if percent % 5 == 0:\n",
    "      sys.stdout.write(\"%s%%\" % percent)\n",
    "      sys.stdout.flush()\n",
    "    else:\n",
    "      sys.stdout.write(\".\")\n",
    "      sys.stdout.flush()\n",
    "      \n",
    "    last_percent_reported = percent\n",
    "        \n",
    "def maybe_download(filename, expected_bytes, force=False):\n",
    "  \"\"\"Download a file if not present, and make sure it's the right size.\"\"\"\n",
    "  dest_filename = os.path.join(data_root, filename)\n",
    "  if force or not os.path.exists(dest_filename):\n",
    "    print('Attempting to download:', filename) \n",
    "    filename, _ = urlretrieve(url + filename, dest_filename, reporthook=download_progress_hook)\n",
    "    print('\\nDownload Complete!')\n",
    "  statinfo = os.stat(dest_filename)\n",
    "  if statinfo.st_size == expected_bytes:\n",
    "    print('Found and verified', dest_filename)\n",
    "  else:\n",
    "    raise Exception(\n",
    "      'Failed to verify ' + dest_filename + '. Can you get to it with a browser?')\n",
    "  return dest_filename\n",
    "\n",
    "train_filename = maybe_download('notMNIST_large.tar.gz', 247336696)\n",
    "test_filename = maybe_download('notMNIST_small.tar.gz', 8458043)"
   ]
  },
  {
   "cell_type": "markdown",
   "metadata": {
    "colab_type": "text",
    "id": "cC3p0oEyF8QT"
   },
   "source": [
    "Extract the dataset from the compressed .tar.gz file.\n",
    "This should give you a set of directories, labeled A through J."
   ]
  },
  {
   "cell_type": "code",
   "execution_count": 4,
   "metadata": {
    "cellView": "both",
    "colab": {
     "autoexec": {
      "startup": false,
      "wait_interval": 0
     },
     "output_extras": [
      {
       "item_id": 1
      }
     ]
    },
    "colab_type": "code",
    "executionInfo": {
     "elapsed": 186055,
     "status": "ok",
     "timestamp": 1444485672525,
     "user": {
      "color": "#1FA15D",
      "displayName": "Vincent Vanhoucke",
      "isAnonymous": false,
      "isMe": true,
      "permissionId": "05076109866853157986",
      "photoUrl": "//lh6.googleusercontent.com/-cCJa7dTDcgQ/AAAAAAAAAAI/AAAAAAAACgw/r2EZ_8oYer4/s50-c-k-no/photo.jpg",
      "sessionId": "2a0a5e044bb03b66",
      "userId": "102167687554210253930"
     },
     "user_tz": 420
    },
    "id": "H8CBE-WZ8nmj",
    "outputId": "ef6c790c-2513-4b09-962e-27c79390c762"
   },
   "outputs": [
    {
     "name": "stdout",
     "output_type": "stream",
     "text": [
      "./notMNIST_large already present - Skipping extraction of ./notMNIST_large.tar.gz.\n",
      "['./notMNIST_large/A', './notMNIST_large/B', './notMNIST_large/C', './notMNIST_large/D', './notMNIST_large/E', './notMNIST_large/F', './notMNIST_large/G', './notMNIST_large/H', './notMNIST_large/I', './notMNIST_large/J']\n",
      "./notMNIST_small already present - Skipping extraction of ./notMNIST_small.tar.gz.\n",
      "['./notMNIST_small/A', './notMNIST_small/B', './notMNIST_small/C', './notMNIST_small/D', './notMNIST_small/E', './notMNIST_small/F', './notMNIST_small/G', './notMNIST_small/H', './notMNIST_small/I', './notMNIST_small/J']\n"
     ]
    }
   ],
   "source": [
    "num_classes = 10\n",
    "np.random.seed(133)\n",
    "\n",
    "def maybe_extract(filename, force=False):\n",
    "  root = os.path.splitext(os.path.splitext(filename)[0])[0]  # remove .tar.gz\n",
    "  if os.path.isdir(root) and not force:\n",
    "    # You may override by setting force=True.\n",
    "    print('%s already present - Skipping extraction of %s.' % (root, filename))\n",
    "  else:\n",
    "    print('Extracting data for %s. This may take a while. Please wait.' % root)\n",
    "    tar = tarfile.open(filename)\n",
    "    sys.stdout.flush()\n",
    "    tar.extractall(data_root)\n",
    "    tar.close()\n",
    "  data_folders = [\n",
    "    os.path.join(root, d) for d in sorted(os.listdir(root))\n",
    "    if os.path.isdir(os.path.join(root, d))]\n",
    "  if len(data_folders) != num_classes:\n",
    "    raise Exception(\n",
    "      'Expected %d folders, one per class. Found %d instead.' % (\n",
    "        num_classes, len(data_folders)))\n",
    "  print(data_folders)\n",
    "  return data_folders\n",
    "  \n",
    "train_folders = maybe_extract(train_filename)\n",
    "test_folders = maybe_extract(test_filename)"
   ]
  },
  {
   "cell_type": "markdown",
   "metadata": {
    "colab_type": "text",
    "id": "4riXK3IoHgx6"
   },
   "source": [
    "---\n",
    "Problem 1\n",
    "---------\n",
    "\n",
    "Let's take a peek at some of the data to make sure it looks sensible. Each exemplar should be an image of a character A through J rendered in a different font. Display a sample of the images that we just downloaded. Hint: you can use the package IPython.display.\n",
    "\n",
    "---"
   ]
  },
  {
   "cell_type": "markdown",
   "metadata": {
    "colab_type": "text",
    "id": "PBdkjESPK8tw"
   },
   "source": [
    "Now let's load the data in a more manageable format. Since, depending on your computer setup you might not be able to fit it all in memory, we'll load each class into a separate dataset, store them on disk and curate them independently. Later we'll merge them into a single dataset of manageable size.\n",
    "\n",
    "We'll convert the entire dataset into a 3D array (image index, x, y) of floating point values, normalized to have approximately zero mean and standard deviation ~0.5 to make training easier down the road. \n",
    "\n",
    "A few images might not be readable, we'll just skip them."
   ]
  },
  {
   "cell_type": "code",
   "execution_count": 5,
   "metadata": {
    "cellView": "both",
    "colab": {
     "autoexec": {
      "startup": false,
      "wait_interval": 0
     },
     "output_extras": [
      {
       "item_id": 30
      }
     ]
    },
    "colab_type": "code",
    "executionInfo": {
     "elapsed": 399874,
     "status": "ok",
     "timestamp": 1444485886378,
     "user": {
      "color": "#1FA15D",
      "displayName": "Vincent Vanhoucke",
      "isAnonymous": false,
      "isMe": true,
      "permissionId": "05076109866853157986",
      "photoUrl": "//lh6.googleusercontent.com/-cCJa7dTDcgQ/AAAAAAAAAAI/AAAAAAAACgw/r2EZ_8oYer4/s50-c-k-no/photo.jpg",
      "sessionId": "2a0a5e044bb03b66",
      "userId": "102167687554210253930"
     },
     "user_tz": 420
    },
    "id": "h7q0XhG3MJdf",
    "outputId": "92c391bb-86ff-431d-9ada-315568a19e59"
   },
   "outputs": [
    {
     "name": "stdout",
     "output_type": "stream",
     "text": [
      "Pickling ./notMNIST_large/A.pickle.\n",
      "./notMNIST_large/A\n"
     ]
    },
    {
     "name": "stderr",
     "output_type": "stream",
     "text": [
      "/usr/local/lib/python3.5/dist-packages/ipykernel_launcher.py:14: DeprecationWarning: `imread` is deprecated!\n",
      "`imread` is deprecated in SciPy 1.0.0.\n",
      "Use ``matplotlib.pyplot.imread`` instead.\n",
      "  \n"
     ]
    },
    {
     "name": "stdout",
     "output_type": "stream",
     "text": [
      "Could not read: ./notMNIST_large/A/Um9tYW5hIEJvbGQucGZi.png : cannot identify image file './notMNIST_large/A/Um9tYW5hIEJvbGQucGZi.png' - it's ok, skipping.\n",
      "Could not read: ./notMNIST_large/A/SG90IE11c3RhcmQgQlROIFBvc3Rlci50dGY=.png : cannot identify image file './notMNIST_large/A/SG90IE11c3RhcmQgQlROIFBvc3Rlci50dGY=.png' - it's ok, skipping.\n",
      "Could not read: ./notMNIST_large/A/RnJlaWdodERpc3BCb29rSXRhbGljLnR0Zg==.png : cannot identify image file './notMNIST_large/A/RnJlaWdodERpc3BCb29rSXRhbGljLnR0Zg==.png' - it's ok, skipping.\n",
      "Full dataset tensor: (52909, 28, 28)\n",
      "Mean: -0.12825\n",
      "Standard deviation: 0.443121\n",
      "Pickling ./notMNIST_large/B.pickle.\n",
      "./notMNIST_large/B\n",
      "Could not read: ./notMNIST_large/B/TmlraXNFRi1TZW1pQm9sZEl0YWxpYy5vdGY=.png : cannot identify image file './notMNIST_large/B/TmlraXNFRi1TZW1pQm9sZEl0YWxpYy5vdGY=.png' - it's ok, skipping.\n",
      "Full dataset tensor: (52911, 28, 28)\n",
      "Mean: -0.00756304\n",
      "Standard deviation: 0.454491\n",
      "Pickling ./notMNIST_large/C.pickle.\n",
      "./notMNIST_large/C\n",
      "Could not read: ./notMNIST_large/C/.UGFya3BsYWNlTmFycm93IFJlZ3VsYXIudHRm.png.AK9a1i : cannot identify image file './notMNIST_large/C/.UGFya3BsYWNlTmFycm93IFJlZ3VsYXIudHRm.png.AK9a1i' - it's ok, skipping.\n",
      "Full dataset tensor: (52912, 28, 28)\n",
      "Mean: -0.142258\n",
      "Standard deviation: 0.439806\n",
      "Pickling ./notMNIST_large/D.pickle.\n",
      "./notMNIST_large/D\n",
      "Could not read: ./notMNIST_large/D/VHJhbnNpdCBCb2xkLnR0Zg==.png : cannot identify image file './notMNIST_large/D/VHJhbnNpdCBCb2xkLnR0Zg==.png' - it's ok, skipping.\n",
      "Full dataset tensor: (52911, 28, 28)\n",
      "Mean: -0.0573678\n",
      "Standard deviation: 0.455648\n",
      "Pickling ./notMNIST_large/E.pickle.\n",
      "./notMNIST_large/E\n",
      "Full dataset tensor: (52912, 28, 28)\n",
      "Mean: -0.069899\n",
      "Standard deviation: 0.452942\n",
      "Pickling ./notMNIST_large/F.pickle.\n",
      "./notMNIST_large/F\n",
      "Full dataset tensor: (52912, 28, 28)\n",
      "Mean: -0.125583\n",
      "Standard deviation: 0.44709\n",
      "Pickling ./notMNIST_large/G.pickle.\n",
      "./notMNIST_large/G\n",
      "Full dataset tensor: (52912, 28, 28)\n",
      "Mean: -0.0945816\n",
      "Standard deviation: 0.44624\n",
      "Pickling ./notMNIST_large/H.pickle.\n",
      "./notMNIST_large/H\n",
      "Full dataset tensor: (52912, 28, 28)\n",
      "Mean: -0.0685222\n",
      "Standard deviation: 0.454231\n",
      "Pickling ./notMNIST_large/I.pickle.\n",
      "./notMNIST_large/I\n",
      "Full dataset tensor: (52912, 28, 28)\n",
      "Mean: 0.0307862\n",
      "Standard deviation: 0.468899\n",
      "Pickling ./notMNIST_large/J.pickle.\n",
      "./notMNIST_large/J\n",
      "Full dataset tensor: (52911, 28, 28)\n",
      "Mean: -0.153358\n",
      "Standard deviation: 0.443657\n",
      "Pickling ./notMNIST_small/A.pickle.\n",
      "./notMNIST_small/A\n",
      "Could not read: ./notMNIST_small/A/RGVtb2NyYXRpY2FCb2xkT2xkc3R5bGUgQm9sZC50dGY=.png : cannot identify image file './notMNIST_small/A/RGVtb2NyYXRpY2FCb2xkT2xkc3R5bGUgQm9sZC50dGY=.png' - it's ok, skipping.\n",
      "Full dataset tensor: (1872, 28, 28)\n",
      "Mean: -0.132626\n",
      "Standard deviation: 0.445128\n",
      "Pickling ./notMNIST_small/B.pickle.\n",
      "./notMNIST_small/B\n",
      "Full dataset tensor: (1873, 28, 28)\n",
      "Mean: 0.00535608\n",
      "Standard deviation: 0.457115\n",
      "Pickling ./notMNIST_small/C.pickle.\n",
      "./notMNIST_small/C\n",
      "Full dataset tensor: (1873, 28, 28)\n",
      "Mean: -0.141521\n",
      "Standard deviation: 0.44269\n",
      "Pickling ./notMNIST_small/D.pickle.\n",
      "./notMNIST_small/D\n",
      "Full dataset tensor: (1873, 28, 28)\n",
      "Mean: -0.0492167\n",
      "Standard deviation: 0.459759\n",
      "Pickling ./notMNIST_small/E.pickle.\n",
      "./notMNIST_small/E\n",
      "Full dataset tensor: (1873, 28, 28)\n",
      "Mean: -0.0599148\n",
      "Standard deviation: 0.45735\n",
      "Pickling ./notMNIST_small/F.pickle.\n",
      "./notMNIST_small/F\n",
      "Could not read: ./notMNIST_small/F/Q3Jvc3NvdmVyIEJvbGRPYmxpcXVlLnR0Zg==.png : cannot identify image file './notMNIST_small/F/Q3Jvc3NvdmVyIEJvbGRPYmxpcXVlLnR0Zg==.png' - it's ok, skipping.\n",
      "Full dataset tensor: (1872, 28, 28)\n",
      "Mean: -0.118185\n",
      "Standard deviation: 0.452279\n",
      "Pickling ./notMNIST_small/G.pickle.\n",
      "./notMNIST_small/G\n",
      "Full dataset tensor: (1872, 28, 28)\n",
      "Mean: -0.0925503\n",
      "Standard deviation: 0.449006\n",
      "Pickling ./notMNIST_small/H.pickle.\n",
      "./notMNIST_small/H\n",
      "Full dataset tensor: (1872, 28, 28)\n",
      "Mean: -0.0586892\n",
      "Standard deviation: 0.458759\n",
      "Pickling ./notMNIST_small/I.pickle.\n",
      "./notMNIST_small/I\n",
      "Full dataset tensor: (1872, 28, 28)\n",
      "Mean: 0.0526451\n",
      "Standard deviation: 0.471894\n",
      "Pickling ./notMNIST_small/J.pickle.\n",
      "./notMNIST_small/J\n",
      "Full dataset tensor: (1872, 28, 28)\n",
      "Mean: -0.151689\n",
      "Standard deviation: 0.448014\n"
     ]
    }
   ],
   "source": [
    "image_size = 28  # Pixel width and height.\n",
    "pixel_depth = 255.0  # Number of levels per pixel.\n",
    "\n",
    "def load_letter(folder, min_num_images):\n",
    "  \"\"\"Load the data for a single letter label.\"\"\"\n",
    "  image_files = os.listdir(folder)\n",
    "  dataset = np.ndarray(shape=(len(image_files), image_size, image_size),\n",
    "                         dtype=np.float32)\n",
    "  print(folder)\n",
    "  num_images = 0\n",
    "  for image in image_files:\n",
    "    image_file = os.path.join(folder, image)\n",
    "    try:\n",
    "      image_data = (ndimage.imread(image_file).astype(float) - \n",
    "                    pixel_depth / 2) / pixel_depth\n",
    "      if image_data.shape != (image_size, image_size):\n",
    "        raise Exception('Unexpected image shape: %s' % str(image_data.shape))\n",
    "      dataset[num_images, :, :] = image_data\n",
    "      num_images = num_images + 1\n",
    "    except IOError as e:\n",
    "      print('Could not read:', image_file, ':', e, '- it\\'s ok, skipping.')\n",
    "    \n",
    "  dataset = dataset[0:num_images, :, :]\n",
    "  if num_images < min_num_images:\n",
    "    raise Exception('Many fewer images than expected: %d < %d' %\n",
    "                    (num_images, min_num_images))\n",
    "    \n",
    "  print('Full dataset tensor:', dataset.shape)\n",
    "  print('Mean:', np.mean(dataset))\n",
    "  print('Standard deviation:', np.std(dataset))\n",
    "  return dataset\n",
    "        \n",
    "def maybe_pickle(data_folders, min_num_images_per_class, force=False):\n",
    "  dataset_names = []\n",
    "  for folder in data_folders:\n",
    "    set_filename = folder + '.pickle'\n",
    "    dataset_names.append(set_filename)\n",
    "    if os.path.exists(set_filename) and not force:\n",
    "      # You may override by setting force=True.\n",
    "      print('%s already present - Skipping pickling.' % set_filename)\n",
    "    else:\n",
    "      print('Pickling %s.' % set_filename)\n",
    "      dataset = load_letter(folder, min_num_images_per_class)\n",
    "      try:\n",
    "        with open(set_filename, 'wb') as f:\n",
    "          pickle.dump(dataset, f, pickle.HIGHEST_PROTOCOL)\n",
    "      except Exception as e:\n",
    "        print('Unable to save data to', set_filename, ':', e)\n",
    "  \n",
    "  return dataset_names\n",
    "\n",
    "train_datasets = maybe_pickle(train_folders, 45000)\n",
    "test_datasets = maybe_pickle(test_folders, 1800)"
   ]
  },
  {
   "cell_type": "markdown",
   "metadata": {
    "colab_type": "text",
    "id": "vUdbskYE2d87"
   },
   "source": [
    "---\n",
    "Problem 2\n",
    "---------\n",
    "\n",
    "Let's verify that the data still looks good. Displaying a sample of the labels and images from the ndarray. Hint: you can use matplotlib.pyplot.\n",
    "\n",
    "---"
   ]
  },
  {
   "cell_type": "code",
   "execution_count": 57,
   "metadata": {},
   "outputs": [
    {
     "data": {
      "image/png": "[encoded data removed]",
      "text/plain": [
       "<matplotlib.figure.Figure at 0x7f9f943337f0>"
      ]
     },
     "metadata": {},
     "output_type": "display_data"
    }
   ],
   "source": [
    "mapping = {1:'A', 2:'B', 3:'C', 4:'D', 5:'E', 6:'F', 7:'G', 8:'H', 9:'I', 10:'J'}\n",
    "fig, axes = plt.subplots(1,10, squeeze=True, figsize=(16, 9))\n",
    "for k, ax in enumerate(axes.flatten()):\n",
    "    images = pickle.load(open('./notMNIST_large/%s.pickle' % mapping[k+1], 'rb'))\n",
    "    ax.imshow(images[np.random.randint(0, len(images))], cmap='gray')\n",
    "    ax.set_yticklabels([])\n",
    "    ax.set_xticklabels([])\n",
    "    "
   ]
  },
  {
   "cell_type": "markdown",
   "metadata": {
    "colab_type": "text",
    "id": "cYznx5jUwzoO"
   },
   "source": [
    "---\n",
    "Problem 3\n",
    "---------\n",
    "Another check: we expect the data to be balanced across classes. Verify that.\n",
    "\n",
    "---"
   ]
  },
  {
   "cell_type": "code",
   "execution_count": 59,
   "metadata": {},
   "outputs": [
    {
     "name": "stdout",
     "output_type": "stream",
     "text": [
      "letter A has 52909 examples\n",
      "letter B has 52911 examples\n",
      "letter C has 52912 examples\n",
      "letter D has 52911 examples\n",
      "letter E has 52912 examples\n",
      "letter F has 52912 examples\n",
      "letter G has 52912 examples\n",
      "letter H has 52912 examples\n",
      "letter I has 52912 examples\n",
      "letter J has 52911 examples\n",
      "variance in counts for individual classes is   0.84, with min 52909.00 and max 52912.00\n"
     ]
    },
    {
     "data": {
      "image/png": "[encoded data removed]",
      "text/plain": [
       "<matplotlib.figure.Figure at 0x7f9f96773198>"
      ]
     },
     "metadata": {},
     "output_type": "display_data"
    }
   ],
   "source": [
    "examples_counts = []\n",
    "for k in range(1, 11):\n",
    "    images = pickle.load(open('./notMNIST_large/%s.pickle' % mapping[k], 'rb'))\n",
    "    print('letter %s has %d examples' % (mapping[k], len(images)))\n",
    "    examples_counts.append((k, len(images)))\n",
    "ec = np.array(examples_counts)\n",
    "plt.plot(ec[:,0], ec[:,1])\n",
    "plt.xticks(ec[:, 0], [mapping[i] for i in ec[:, 0]])\n",
    "plt.xlabel('letter')\n",
    "plt.ylabel('# examples')\n",
    "plt.ylim(0, ec[:, 1].max()*1.1)\n",
    "fig = plt.gcf()\n",
    "fig.set_size_inches(16, 9)\n",
    "print('variance in counts for individual classes is %6.2f, with min %6.2f and max %6.2f' % (np.var(ec[:,1]), ec[:, 1].min(), ec[:,1].max()))"
   ]
  },
  {
   "cell_type": "markdown",
   "metadata": {
    "colab_type": "text",
    "id": "LA7M7K22ynCt"
   },
   "source": [
    "Merge and prune the training data as needed. Depending on your computer setup, you might not be able to fit it all in memory, and you can tune `train_size` as needed. The labels will be stored into a separate array of integers 0 through 9.\n",
    "\n",
    "Also create a validation dataset for hyperparameter tuning."
   ]
  },
  {
   "cell_type": "code",
   "execution_count": 67,
   "metadata": {
    "cellView": "both",
    "colab": {
     "autoexec": {
      "startup": false,
      "wait_interval": 0
     },
     "output_extras": [
      {
       "item_id": 1
      }
     ]
    },
    "colab_type": "code",
    "executionInfo": {
     "elapsed": 411281,
     "status": "ok",
     "timestamp": 1444485897869,
     "user": {
      "color": "#1FA15D",
      "displayName": "Vincent Vanhoucke",
      "isAnonymous": false,
      "isMe": true,
      "permissionId": "05076109866853157986",
      "photoUrl": "//lh6.googleusercontent.com/-cCJa7dTDcgQ/AAAAAAAAAAI/AAAAAAAACgw/r2EZ_8oYer4/s50-c-k-no/photo.jpg",
      "sessionId": "2a0a5e044bb03b66",
      "userId": "102167687554210253930"
     },
     "user_tz": 420
    },
    "id": "s3mWgZLpyuzq",
    "outputId": "8af66da6-902d-4719-bedc-7c9fb7ae7948"
   },
   "outputs": [
    {
     "name": "stdout",
     "output_type": "stream",
     "text": [
      "Training: (400000, 28, 28) (400000,)\n",
      "Validation: (15000, 28, 28) (15000,)\n",
      "Testing: (15000, 28, 28) (15000,)\n"
     ]
    }
   ],
   "source": [
    "def make_arrays(nb_rows, img_size):\n",
    "  if nb_rows:\n",
    "    dataset = np.ndarray((nb_rows, img_size, img_size), dtype=np.float32)\n",
    "    labels = np.ndarray(nb_rows, dtype=np.int32)\n",
    "  else:\n",
    "    dataset, labels = None, None\n",
    "  return dataset, labels\n",
    "\n",
    "def merge_datasets(pickle_files, train_size, valid_size=0):\n",
    "  num_classes = len(pickle_files)\n",
    "  valid_dataset, valid_labels = make_arrays(valid_size, image_size)\n",
    "  train_dataset, train_labels = make_arrays(train_size, image_size)\n",
    "  vsize_per_class = valid_size // num_classes\n",
    "  tsize_per_class = train_size // num_classes\n",
    "    \n",
    "  start_v, start_t = 0, 0\n",
    "  end_v, end_t = vsize_per_class, tsize_per_class\n",
    "  end_l = vsize_per_class+tsize_per_class\n",
    "  for label, pickle_file in enumerate(pickle_files):       \n",
    "    try:\n",
    "      with open(pickle_file, 'rb') as f:\n",
    "        letter_set = pickle.load(f)\n",
    "        # let's shuffle the letters to have random validation and training set\n",
    "        np.random.shuffle(letter_set)\n",
    "        if valid_dataset is not None:\n",
    "          valid_letter = letter_set[:vsize_per_class, :, :]\n",
    "          valid_dataset[start_v:end_v, :, :] = valid_letter\n",
    "          valid_labels[start_v:end_v] = label\n",
    "          start_v += vsize_per_class\n",
    "          end_v += vsize_per_class\n",
    "                    \n",
    "        train_letter = letter_set[vsize_per_class:end_l, :, :]\n",
    "        train_dataset[start_t:end_t, :, :] = train_letter\n",
    "        train_labels[start_t:end_t] = label\n",
    "        start_t += tsize_per_class\n",
    "        end_t += tsize_per_class\n",
    "    except Exception as e:\n",
    "      print('Unable to process data from', pickle_file, ':', e)\n",
    "      raise\n",
    "    \n",
    "  return valid_dataset, valid_labels, train_dataset, train_labels\n",
    "            \n",
    "            \n",
    "train_size = 400000\n",
    "valid_size = 15000\n",
    "test_size = 15000\n",
    "\n",
    "valid_dataset, valid_labels, train_dataset, train_labels = merge_datasets(\n",
    "  train_datasets, train_size, valid_size)\n",
    "_, _, test_dataset, test_labels = merge_datasets(test_datasets, test_size)\n",
    "\n",
    "print('Training:', train_dataset.shape, train_labels.shape)\n",
    "print('Validation:', valid_dataset.shape, valid_labels.shape)\n",
    "print('Testing:', test_dataset.shape, test_labels.shape)"
   ]
  },
  {
   "cell_type": "markdown",
   "metadata": {
    "colab_type": "text",
    "id": "GPTCnjIcyuKN"
   },
   "source": [
    "Next, we'll randomize the data. It's important to have the labels well shuffled for the training and test distributions to match."
   ]
  },
  {
   "cell_type": "code",
   "execution_count": 68,
   "metadata": {
    "cellView": "both",
    "colab": {
     "autoexec": {
      "startup": false,
      "wait_interval": 0
     }
    },
    "colab_type": "code",
    "id": "6WZ2l2tN2zOL"
   },
   "outputs": [],
   "source": [
    "def randomize(dataset, labels):\n",
    "  permutation = np.random.permutation(labels.shape[0])\n",
    "  shuffled_dataset = dataset[permutation,:,:]\n",
    "  shuffled_labels = labels[permutation]\n",
    "  return shuffled_dataset, shuffled_labels\n",
    "train_dataset, train_labels = randomize(train_dataset, train_labels)\n",
    "test_dataset, test_labels = randomize(test_dataset, test_labels)\n",
    "valid_dataset, valid_labels = randomize(valid_dataset, valid_labels)"
   ]
  },
  {
   "cell_type": "markdown",
   "metadata": {
    "colab_type": "text",
    "id": "puDUTe6t6USl"
   },
   "source": [
    "---\n",
    "Problem 4\n",
    "---------\n",
    "Convince yourself that the data is still good after shuffling!\n",
    "\n",
    "---"
   ]
  },
  {
   "cell_type": "code",
   "execution_count": 69,
   "metadata": {},
   "outputs": [
    {
     "name": "stdout",
     "output_type": "stream",
     "text": [
      "(400000, 28, 28)\n",
      "(3, 20)\n"
     ]
    },
    {
     "data": {
      "image/png": "[encoded data removed]",
      "text/plain": [
       "<matplotlib.figure.Figure at 0x7f9f93e07c50>"
      ]
     },
     "metadata": {},
     "output_type": "display_data"
    }
   ],
   "source": [
    "print(train_dataset.shape)\n",
    "fig, axes = plt.subplots(3, 20, squeeze=True, figsize=(16,9))\n",
    "\n",
    "print(axes.shape)\n",
    "for ax in axes[0]:\n",
    "    ax.imshow(train_dataset[np.random.randint(0, train_dataset.shape[0])], cmap='gray')\n",
    "    ax.set_yticklabels([])\n",
    "    ax.set_xticklabels([])\n",
    "\n",
    "for ax in axes[1]:\n",
    "    ax.imshow(test_dataset[np.random.randint(0, test_dataset.shape[0])], cmap='gray')\n",
    "    ax.set_yticklabels([])\n",
    "    ax.set_xticklabels([])\n",
    "    \n",
    "for ax in axes[2]:\n",
    "    ax.imshow(valid_dataset[np.random.randint(0, valid_dataset.shape[0])], cmap='gray')\n",
    "    ax.set_yticklabels([])\n",
    "    ax.set_xticklabels([])\n"
   ]
  },
  {
   "cell_type": "markdown",
   "metadata": {
    "colab_type": "text",
    "id": "tIQJaJuwg5Hw"
   },
   "source": [
    "Finally, let's save the data for later reuse:"
   ]
  },
  {
   "cell_type": "code",
   "execution_count": 70,
   "metadata": {
    "cellView": "both",
    "colab": {
     "autoexec": {
      "startup": false,
      "wait_interval": 0
     }
    },
    "colab_type": "code",
    "id": "QiR_rETzem6C"
   },
   "outputs": [],
   "source": [
    "pickle_file = os.path.join(data_root, 'notMNIST.pickle')\n",
    "\n",
    "try:\n",
    "  f = open(pickle_file, 'wb')\n",
    "  save = {\n",
    "    'train_dataset': train_dataset,\n",
    "    'train_labels': train_labels,\n",
    "    'valid_dataset': valid_dataset,\n",
    "    'valid_labels': valid_labels,\n",
    "    'test_dataset': test_dataset,\n",
    "    'test_labels': test_labels,\n",
    "    }\n",
    "  pickle.dump(save, f, pickle.HIGHEST_PROTOCOL)\n",
    "  f.close()\n",
    "except Exception as e:\n",
    "  print('Unable to save data to', pickle_file, ':', e)\n",
    "  raise"
   ]
  },
  {
   "cell_type": "code",
   "execution_count": 71,
   "metadata": {
    "cellView": "both",
    "colab": {
     "autoexec": {
      "startup": false,
      "wait_interval": 0
     },
     "output_extras": [
      {
       "item_id": 1
      }
     ]
    },
    "colab_type": "code",
    "executionInfo": {
     "elapsed": 413065,
     "status": "ok",
     "timestamp": 1444485899688,
     "user": {
      "color": "#1FA15D",
      "displayName": "Vincent Vanhoucke",
      "isAnonymous": false,
      "isMe": true,
      "permissionId": "05076109866853157986",
      "photoUrl": "//lh6.googleusercontent.com/-cCJa7dTDcgQ/AAAAAAAAAAI/AAAAAAAACgw/r2EZ_8oYer4/s50-c-k-no/photo.jpg",
      "sessionId": "2a0a5e044bb03b66",
      "userId": "102167687554210253930"
     },
     "user_tz": 420
    },
    "id": "hQbLjrW_iT39",
    "outputId": "b440efc6-5ee1-4cbc-d02d-93db44ebd956"
   },
   "outputs": [
    {
     "name": "stdout",
     "output_type": "stream",
     "text": [
      "Compressed pickle size: 1350200512\n"
     ]
    }
   ],
   "source": [
    "statinfo = os.stat(pickle_file)\n",
    "print('Compressed pickle size:', statinfo.st_size)"
   ]
  },
  {
   "cell_type": "markdown",
   "metadata": {
    "colab_type": "text",
    "id": "gE_cRAQB33lk"
   },
   "source": [
    "---\n",
    "Problem 5\n",
    "---------\n",
    "\n",
    "By construction, this dataset might contain a lot of overlapping samples, including training data that's also contained in the validation and test set! Overlap between training and test can skew the results if you expect to use your model in an environment where there is never an overlap, but are actually ok if you expect to see training samples recur when you use it.\n",
    "Measure how much overlap there is between training, validation and test samples.\n",
    "\n",
    "Optional questions:\n",
    "- What about near duplicates between datasets? (images that are almost identical)\n",
    "- Create a sanitized validation and test set, and compare your accuracy on those in subsequent assignments.\n",
    "---"
   ]
  },
  {
   "cell_type": "code",
   "execution_count": 73,
   "metadata": {},
   "outputs": [
    {
     "name": "stdout",
     "output_type": "stream",
     "text": [
      "there is 28946 overlaps between valid and test datasets\n",
      "there is 600761 overlaps between valid and train datasets\n",
      "there is 28946 overlaps between train and test datasets\n"
     ]
    }
   ],
   "source": [
    "dataset = pickle.load(open('notMNIST.pickle', 'rb'))\n",
    "\n",
    "#train_dataset = dataset['train_dataset']\n",
    "#valid_dataset = dataset['valid_dataset']\n",
    "#test_dataset = dataset['test_dataset']\n",
    "overlaps_valid_test = []\n",
    "overlaps_valid_train = []\n",
    "overlaps_test_train = []\n",
    "\n",
    "for k, imagek in enumerate(valid_dataset):\n",
    "    for l, imagel in enumerate(test_dataset):\n",
    "        if np.all(np.equal(imagek, imagel)):\n",
    "            overlaps_valid_test.append([k, l])\n",
    "\n",
    "print('there is %d overlaps between valid and test datasets' % len(overlaps_valid_test,))\n",
    "\n",
    "for k, imagek in enumerate(valid_dataset):\n",
    "    for l, imagel in enumerate(train_dataset):\n",
    "        if np.all(np.equal(imagek, imagel)):\n",
    "            overlaps_valid_train.append([k, l])\n",
    "\n",
    "print('there is %d overlaps between valid and train datasets' % len(overlaps_valid_train,))\n",
    "\n",
    "for k, imagek in enumerate(valid_dataset):\n",
    "    for l, imagel in enumerate(test_dataset):\n",
    "        if np.all(np.equal(imagek, imagel)):\n",
    "            overlaps_test_train.append([k, l])\n",
    "\n",
    "print('there is %d overlaps between train and test datasets' % len(overlaps_test_train,))\n",
    "\n"
   ]
  },
  {
   "cell_type": "code",
   "execution_count": 75,
   "metadata": {},
   "outputs": [],
   "source": [
    "ovtest = np.array(overlaps_valid_test)\n",
    "ovtrain = np.array(overlaps_valid_train)\n",
    "ovtt = np.array(overlaps_test_train)\n",
    "\n"
   ]
  },
  {
   "cell_type": "code",
   "execution_count": 76,
   "metadata": {},
   "outputs": [
    {
     "name": "stdout",
     "output_type": "stream",
     "text": [
      "ovtest.shape (28946, 2)\n",
      "ovtrain.shape (600761, 2)\n",
      "ovtt.shape (28946, 2)\n"
     ]
    }
   ],
   "source": [
    "print('ovtest.shape', ovtest.shape)\n",
    "print('ovtrain.shape', ovtrain.shape)\n",
    "print('ovtt.shape', ovtt.shape)"
   ]
  },
  {
   "cell_type": "code",
   "execution_count": 77,
   "metadata": {},
   "outputs": [],
   "source": [
    "f = open('overlaps.pickle', 'wb')\n",
    "pickle.dump({'ovtest':ovtest, 'ovtrain':ovtrain, 'ovtt':ovtt}, f)\n",
    "f.close()"
   ]
  },
  {
   "cell_type": "markdown",
   "metadata": {
    "colab_type": "text",
    "id": "L8oww1s4JMQx"
   },
   "source": [
    "---\n",
    "Problem 6\n",
    "---------\n",
    "\n",
    "Let's get an idea of what an off-the-shelf classifier can give you on this data. It's always good to check that there is something to learn, and that it's a problem that is not so trivial that a canned solution solves it.\n",
    "\n",
    "Train a simple model on this data using 50, 100, 1000 and 5000 training samples. Hint: you can use the LogisticRegression model from sklearn.linear_model.\n",
    "\n",
    "Optional question: train an off-the-shelf model on all the data!\n",
    "\n",
    "---"
   ]
  },
  {
   "cell_type": "code",
   "execution_count": 4,
   "metadata": {},
   "outputs": [
    {
     "name": "stdout",
     "output_type": "stream",
     "text": [
      "fit duration 555.29 seconds\n"
     ]
    },
    {
     "ename": "NameError",
     "evalue": "name 'np' is not defined",
     "output_type": "error",
     "traceback": [
      "\u001b[0;31m---------------------------------------------------------------------------\u001b[0m",
      "\u001b[0;31mNameError\u001b[0m                                 Traceback (most recent call last)",
      "\u001b[0;32m<ipython-input-4-0d6fcccc9db8>\u001b[0m in \u001b[0;36m<module>\u001b[0;34m()\u001b[0m\n\u001b[1;32m     42\u001b[0m \u001b[0mp_test\u001b[0m \u001b[0;34m=\u001b[0m \u001b[0mclf\u001b[0m\u001b[0;34m.\u001b[0m\u001b[0mpredict\u001b[0m\u001b[0;34m(\u001b[0m\u001b[0mX_test\u001b[0m\u001b[0;34m)\u001b[0m\u001b[0;34m\u001b[0m\u001b[0m\n\u001b[1;32m     43\u001b[0m \u001b[0;34m\u001b[0m\u001b[0m\n\u001b[0;32m---> 44\u001b[0;31m \u001b[0mp_train\u001b[0m \u001b[0;34m=\u001b[0m \u001b[0mnp\u001b[0m\u001b[0;34m.\u001b[0m\u001b[0marray\u001b[0m\u001b[0;34m(\u001b[0m\u001b[0;34m[\u001b[0m\u001b[0mint\u001b[0m\u001b[0;34m(\u001b[0m\u001b[0ma\u001b[0m\u001b[0;34m)\u001b[0m \u001b[0;32mfor\u001b[0m \u001b[0ma\u001b[0m \u001b[0;32min\u001b[0m \u001b[0mp_train\u001b[0m\u001b[0;34m]\u001b[0m\u001b[0;34m)\u001b[0m\u001b[0;34m\u001b[0m\u001b[0m\n\u001b[0m\u001b[1;32m     45\u001b[0m \u001b[0mp_valid\u001b[0m \u001b[0;34m=\u001b[0m \u001b[0mnp\u001b[0m\u001b[0;34m.\u001b[0m\u001b[0marray\u001b[0m\u001b[0;34m(\u001b[0m\u001b[0;34m[\u001b[0m\u001b[0mint\u001b[0m\u001b[0;34m(\u001b[0m\u001b[0ma\u001b[0m\u001b[0;34m)\u001b[0m \u001b[0;32mfor\u001b[0m \u001b[0ma\u001b[0m \u001b[0;32min\u001b[0m \u001b[0mp_valid\u001b[0m\u001b[0;34m]\u001b[0m\u001b[0;34m)\u001b[0m\u001b[0;34m\u001b[0m\u001b[0m\n\u001b[1;32m     46\u001b[0m \u001b[0mp_test\u001b[0m \u001b[0;34m=\u001b[0m \u001b[0mnp\u001b[0m\u001b[0;34m.\u001b[0m\u001b[0marray\u001b[0m\u001b[0;34m(\u001b[0m\u001b[0;34m[\u001b[0m\u001b[0mint\u001b[0m\u001b[0;34m(\u001b[0m\u001b[0ma\u001b[0m\u001b[0;34m)\u001b[0m \u001b[0;32mfor\u001b[0m \u001b[0ma\u001b[0m \u001b[0;32min\u001b[0m \u001b[0mp_test\u001b[0m\u001b[0;34m]\u001b[0m\u001b[0;34m)\u001b[0m\u001b[0;34m\u001b[0m\u001b[0m\n",
      "\u001b[0;31mNameError\u001b[0m: name 'np' is not defined"
     ]
    }
   ],
   "source": [
    "import pickle\n",
    "from sklearn.linear_model import LogisticRegression\n",
    "from sklearn.svm import SVC\n",
    "from sklearn.decomposition import PCA\n",
    "from sklearn.metrics import confusion_matrix, classification_report\n",
    "import time \n",
    "\n",
    "#clf = LogisticRegression(C=50. / train_samples,\n",
    "#                         multi_class='multinomial',\n",
    "#                         penalty='l1', solver='saga', tol=0.1)\n",
    "#sparsity = np.mean(clf.coef_ == 0) * 100\n",
    "#print(\"Sparsity with L1 penalty: %.2f%%\" % sparsity)\n",
    "target_names = list('abcdefghij'.upper())\n",
    "\n",
    "dataset = pickle.load(open('notMNIST.pickle', 'rb'))\n",
    "\n",
    "train_size = 400000\n",
    "y_train = dataset['train_labels'][:train_size]\n",
    "y_valid = dataset['valid_labels']\n",
    "y_test = dataset['test_labels']\n",
    "\n",
    "def reshape(dataset):\n",
    "    a, b, c = dataset.shape\n",
    "    return dataset.reshape((a, b*c))\n",
    "\n",
    "X_train = dataset['train_dataset']\n",
    "X_train = reshape(X_train)[:train_size]\n",
    "X_valid = dataset['valid_dataset']\n",
    "X_valid = reshape(X_valid)\n",
    "X_test = dataset['test_dataset']\n",
    "X_test = reshape(X_test)\n",
    "\n",
    "clf = LogisticRegression(solver='saga', n_jobs=-1)\n",
    "\n",
    "start = time.time()\n",
    "clf.fit(X_train, y_train)\n",
    "end = time.time()\n",
    "print('fit duration %.2f seconds' % (end-start,))\n",
    "\n",
    "p_train = clf.predict(X_train)\n",
    "p_valid = clf.predict(X_valid)\n",
    "p_test = clf.predict(X_test)\n",
    "\n",
    "p_train = np.array([int(a) for a in p_train])\n",
    "p_valid = np.array([int(a) for a in p_valid])\n",
    "p_test = np.array([int(a) for a in p_test])\n",
    "\n",
    "print('LR train score', clf.score(X_train, y_train))\n",
    "print(classification_report(p_train, y_train, target_names=target_names))\n",
    "print(confusion_matrix(p_train, y_train, labels=range(len(target_names))))\n",
    "\n",
    "print('LR valid score', clf.score(X_valid, y_valid))\n",
    "print(classification_report(p_valid, y_valid, target_names=target_names))\n",
    "print(confusion_matrix(p_valid, y_valid, labels=range(len(target_names))))\n",
    "\n",
    "print('LR test score', clf.score(X_test, y_test))\n",
    "print(classification_report(p_test, y_test, target_names=target_names))\n",
    "print(confusion_matrix(p_test, y_test, labels=range(len(target_names))))\n",
    "\n",
    "\n",
    "#sys.exit(0)\n",
    "\n",
    "start = time.time()\n",
    "try:\n",
    "    classifier = pickle.load(open('SVC_pca_50components_400ktrain.pickle', 'rb'))\n",
    "    clf = classifier['clf']\n",
    "    pca = classifier['pca']\n",
    "except:   \n",
    "    pca = PCA(n_components=50)\n",
    "    pca.fit(X_train)\n",
    "    print('pca.components', pca.components_.shape)\n",
    "\n",
    "    X_mod_train = pca.transform(X_train)\n",
    "    print('X_mod_train.shape', X_mod_train.shape)\n",
    "\n",
    "    clf = SVC()\n",
    "    clf.fit(X_mod_train[:train_size], y_train[:train_size])\n",
    "    f = open('SVC_pca_50components_400ktrain.pickle', 'wb')\n",
    "    pickle.dump({'pca': pca, 'clf': clf}, f)\n",
    "    f.close()\n",
    "    \n",
    "end = time.time()\n",
    "\n",
    "print('fit duration %.2f seconds' % (end-start,))\n",
    "\n",
    "\n",
    "\n",
    "\n",
    "p_train = clf.predict(pca.transform(X_train[:train_size]))\n",
    "p_valid = clf.predict(pca.transform(X_valid))\n",
    "p_test = clf.predict(pca.transform(X_test))\n",
    "\n",
    "p_train = np.array([int(a) for a in p_train])\n",
    "p_valid = np.array([int(a) for a in p_valid])\n",
    "p_test = np.array([int(a) for a in p_test])\n",
    "\n",
    "print('SVC train score', clf.score(pca.transform(X_train[:train_size]), y_train[:train_size]))\n",
    "print(classification_report(p_train, y_train[:train_size], target_names=target_names))\n",
    "print(confusion_matrix(p_train, y_train[:train_size], labels=range(len(target_names))))\n",
    "\n",
    "print('SVC valid score', clf.score(pca.transform(X_valid), y_valid))\n",
    "print(classification_report(p_valid, y_valid, target_names=target_names))\n",
    "print(confusion_matrix(p_valid, y_valid, labels=range(len(target_names))))\n",
    "\n",
    "print('SVC test score', clf.score(pca.transform(X_test), y_test))\n",
    "print(classification_report(p_test, y_test, target_names=target_names))\n",
    "print(confusion_matrix(p_test, y_test, labels=range(len(target_names))))\n"
   ]
  },
  {
   "cell_type": "markdown",
   "metadata": {},
   "source": [
    "__Logistic Regression results__\n",
    "\n",
    "\n",
    "```\n",
    "fit duration 535.81 seconds\n",
    "\n",
    "LR train score 0.830207075518\n",
    "\n",
    "*Classification report*\n",
    "             precision    recall  f1-score   support\n",
    "\n",
    "          A       0.83      0.85      0.84     38957\n",
    "          B       0.80      0.86      0.83     37553\n",
    "          C       0.87      0.83      0.85     41803\n",
    "          D       0.86      0.85      0.85     40472\n",
    "          E       0.77      0.86      0.81     35745\n",
    "          F       0.87      0.84      0.86     41595\n",
    "          G       0.82      0.82      0.82     39698\n",
    "          H       0.84      0.84      0.84     40120\n",
    "          I       0.79      0.75      0.77     42220\n",
    "          J       0.85      0.81      0.83     41836\n",
    "\n",
    "avg / total       0.83      0.83      0.83    399999\n",
    "\n",
    "*Confusion matrix*\n",
    "\n",
    "          [[33249   610   276   556   504   435   655  1243   798   631]\n",
    "           [  597 32189   460   980   878   313   653   553   581   349]\n",
    "           [  442   393 34850   383  2237   448  1748   340   559   403]\n",
    "           [  572  1753   357 34298   484   379   598   636   708   687]\n",
    "           [  440   963   887   326 30609   403   556   555   689   317]\n",
    "           [  479   690   394   683  1274 34998   787   689   825   776]\n",
    "           [  690   941  1140   584  1017   669 32668   649   772   568]\n",
    "           [ 1580   751   401   592   731   498   520 33516  1072   459]\n",
    "           [  937  1092   898   869  1777  1087  1009  1204 31621  1726]\n",
    "           [ 1014   618   337   729   489   770   806   615  2374 34084]]\n",
    "\n",
    "\n",
    "**valid**\n",
    "\n",
    "LR valid score 0.8232\n",
    "*Classification report*\n",
    "             precision    recall  f1-score   support\n",
    "\n",
    "          A       0.83      0.85      0.84      1455\n",
    "          B       0.80      0.85      0.82      1419\n",
    "          C       0.88      0.83      0.85      1590\n",
    "          D       0.83      0.83      0.83      1490\n",
    "          E       0.74      0.85      0.79      1292\n",
    "          F       0.87      0.82      0.84      1589\n",
    "          G       0.82      0.83      0.82      1487\n",
    "          H       0.84      0.82      0.83      1544\n",
    "          I       0.78      0.75      0.76      1563\n",
    "          J       0.85      0.81      0.83      1571\n",
    "\n",
    "avg / total       0.83      0.82      0.82     15000\n",
    "\n",
    "*Confusion matrix*\n",
    "\n",
    "          [[1244   21   13   28   19   20   29   36   22   23]\n",
    "           [  25 1200   18   50   42    6   18   25   20   15]\n",
    "           [  11   13 1315   16   97   26   66    9   24   13]\n",
    "           [  25   71   19 1240   20   12   24   24   35   20]\n",
    "           [  16   33   34   18 1104   17   20   17   24    9]\n",
    "           [  21   32   10   34   55 1299   37   27   40   34]\n",
    "           [  20   31   40   27   38   26 1230   23   33   19]\n",
    "           [  66   29   14   29   31   23   18 1267   48   19]\n",
    "           [  37   46   22   28   67   41   33   52 1169   68]\n",
    "           [  35   24   15   30   27   30   25   20   85 1280]]\n",
    "\n",
    "\n",
    "**test**\n",
    "LR test score 0.894266666667\n",
    "*Classification report*\n",
    "         precision    recall  f1-score   support\n",
    "\n",
    "          A       0.89      0.91      0.90      1453\n",
    "          B       0.89      0.91      0.90      1461\n",
    "          C       0.93      0.90      0.91      1559\n",
    "          D       0.92      0.92      0.92      1497\n",
    "          E       0.86      0.90      0.88      1421\n",
    "          F       0.93      0.88      0.90      1598\n",
    "          G       0.88      0.90      0.89      1457\n",
    "          H       0.88      0.92      0.90      1443\n",
    "          I       0.86      0.84      0.85      1533\n",
    "          J       0.91      0.87      0.89      1578\n",
    "\n",
    "*Confusion matrix*\n",
    "avg / total       0.90      0.89      0.89     15000\n",
    "\n",
    "          [[1328    8    4   11    9   11   14   39   16   13]\n",
    "           [  13 1333    3   24   39    6   16   18    5    4]\n",
    "           [   8    9 1399    9   43    9   53    9   10   10]\n",
    "           [  11   47    3 1376    9    4   12   10   13   12]\n",
    "           [  10   22   25   10 1285    6   11   22   24    6]\n",
    "           [   8   19   17   16   33 1399   40   17   23   26]\n",
    "           [  20   24   21    7   20    9 1313   15   17   11]\n",
    "           [  45   11    5   10    7    4   10 1327   19    5]\n",
    "           [  21   18   20   26   41   24   20   30 1287   46]\n",
    "           [  36    9    3   11   14   28   11   13   86 1367]]\n",
    "\n",
    "*timing results*\n",
    "\n",
    "real\t8m58.806s\n",
    "user\t48m48.896s\n",
    "sys\t3m34.252s\n",
    "```\n"
   ]
  },
  {
   "cell_type": "markdown",
   "metadata": {},
   "source": [
    "__SVM classifier with PCA features__\n",
    "\n",
    "fit duration 10420.17 seconds\n",
    "\n",
    "```\n",
    "SVC train score 0.948665\n",
    "\n",
    "             precision    recall  f1-score   support\n",
    "\n",
    "          A       0.96      0.94      0.95     40644\n",
    "          B       0.95      0.95      0.95     40026\n",
    "          C       0.95      0.96      0.95     39503\n",
    "          D       0.95      0.95      0.95     39967\n",
    "          E       0.95      0.96      0.95     39306\n",
    "          F       0.95      0.96      0.96     39690\n",
    "          G       0.95      0.93      0.94     40872\n",
    "          H       0.95      0.95      0.95     40208\n",
    "          I       0.94      0.93      0.93     40277\n",
    "          J       0.95      0.96      0.95     39507\n",
    "\n",
    "\n",
    "avg / total       0.95      0.95      0.95    400000\n",
    "\n",
    "\n",
    "          [[38252   281   205   288   245   233   235   358   289   258]\n",
    "           [  215 37885   225   353   284   176   268   243   189   188]\n",
    "           [  111   170 37834   105   338   128   355   135   182   145]\n",
    "           [  166   404   184 38049   164   144   198   188   271   199]\n",
    "           [  135   176   245   138 37831   215   158   134   163   111]\n",
    "           [  152   155   134   143   234 38168   181   131   219   173]\n",
    "           [  265   295   640   246   330   281 37973   266   292   284]\n",
    "           [  301   243   208   203   182   199   201 38144   320   207]\n",
    "           [  288   290   258   300   291   303   276   298 37434   539]\n",
    "           [  115   101    67   175   101   153   155   103   641 37896]]\n",
    "\n",
    "SVC valid score 0.9186\n",
    "\n",
    "             precision    recall  f1-score   support\n",
    "\n",
    "          A       0.93      0.92      0.93      1511\n",
    "          B       0.91      0.91      0.91      1490\n",
    "          C       0.93      0.93      0.93      1502\n",
    "          D       0.91      0.92      0.91      1477\n",
    "          E       0.91      0.94      0.92      1451\n",
    "          F       0.93      0.93      0.93      1498\n",
    "          G       0.91      0.89      0.90      1535\n",
    "          H       0.93      0.91      0.92      1543\n",
    "          I       0.90      0.90      0.90      1509\n",
    "          J       0.92      0.93      0.93      1484\n",
    "\n",
    "avg / total       0.92      0.92      0.92     15000\n",
    "\n",
    "\n",
    "         [[1393   20    7   18   13    8    8   18   10   16]\n",
    "          [  13 1359   10   40   11    8   17   12   11    9]\n",
    "          [   5   11 1400    3   23    2   27   13   13    5]\n",
    "          [  16   22   15 1361    9   11    8   11   12   12]\n",
    "          [   4    9   15    5 1361   17   16    8   11    5]\n",
    "          [   8    9    1    9   18 1397   15    4   18   19]\n",
    "          [  17   18   28   21   27   12 1366   15   12   19]\n",
    "          [  25   23    7   10   10   12   22 1402   24    8]\n",
    "          [   8   23    9   17   21   19   17   14 1357   24]\n",
    "          [  11    6    8   16    7   14    4    3   32 1383]]\n",
    "          \n",
    "          \n",
    "SVC test score 0.967266666667\n",
    "\n",
    "             precision    recall  f1-score   support\n",
    "\n",
    "          A       0.97      0.98      0.97      1498\n",
    "          B       0.97      0.96      0.96      1522\n",
    "          C       0.97      0.98      0.97      1476\n",
    "          D       0.97      0.97      0.97      1491\n",
    "          E       0.96      0.97      0.97      1490\n",
    "          F       0.97      0.97      0.97      1500\n",
    "          G       0.96      0.96      0.96      1503\n",
    "          H       0.97      0.98      0.98      1491\n",
    "          I       0.95      0.95      0.95      1512\n",
    "          J       0.97      0.96      0.96      1517\n",
    "\n",
    "avg / total       0.97      0.97      0.97     15000\n",
    "\n",
    "\n",
    "          [[1461    6    1    3    3    4    5    7    6    2]\n",
    "           [  11 1454    2   17    9    2    8   10    7    2]\n",
    "           [   0    2 1448    0   10    0    8    2    3    3]\n",
    "           [   2    7    3 1453    3    3    3    1    9    7]\n",
    "           [   1    5   13    3 1445    5    7    1    7    3]\n",
    "           [   2    4    2    2   10 1462    6    2    5    5]\n",
    "           [   4    7   22    4    4    4 1444    3    6    5]\n",
    "           [  13    3    3    2    2    1    4 1459    3    1]\n",
    "           [   3    9    4    8    7   13   10   11 1429   18]\n",
    "           [   3    3    2    8    7    6    5    4   25 1454]]\n",
    "\n",
    "```\n",
    "\n",
    "*timing results*\n",
    "```\n",
    "real\t281m53.948s\n",
    "user\t282m52.872s\n",
    "sys\t    1m12.472s\n",
    "```\n"
   ]
  },
  {
   "cell_type": "code",
   "execution_count": null,
   "metadata": {},
   "outputs": [],
   "source": []
  }
 ],
 "metadata": {
  "colab": {
   "default_view": {},
   "name": "1_notmnist.ipynb",
   "provenance": [],
   "version": "0.3.2",
   "views": {}
  },
  "kernelspec": {
   "display_name": "Python 3",
   "language": "python",
   "name": "python3"
  },
  "language_info": {
   "codemirror_mode": {
    "name": "ipython",
    "version": 3
   },
   "file_extension": ".py",
   "mimetype": "text/x-python",
   "name": "python",
   "nbconvert_exporter": "python",
   "pygments_lexer": "ipython3",
   "version": "3.5.2"
  }
 },
 "nbformat": 4,
 "nbformat_minor": 1
}
